{
  "cells": [
    {
      "cell_type": "code",
      "execution_count": null,
      "metadata": {
        "id": "Xki9K4JPbi6n"
      },
      "outputs": [],
      "source": [
        "# !pip uninstall wrapt\n",
        "# !pip install wrapt"
      ]
    },
    {
      "cell_type": "code",
      "execution_count": null,
      "metadata": {
        "id": "uzQi2QiWbi6o"
      },
      "outputs": [],
      "source": [
        "# pip install --ignore-installed --upgrade tensorflow\n",
        "# pip install absl-py"
      ]
    },
    {
      "cell_type": "code",
      "execution_count": null,
      "metadata": {
        "id": "-dowT8FLbi6p"
      },
      "outputs": [],
      "source": [
        "import tensorflow as tf\n",
        "import tensorflow_hub as hub\n",
        "import tensorflow_text as text"
      ]
    },
    {
      "cell_type": "code",
      "source": [
        "# pip install bert-for-tf2"
      ],
      "metadata": {
        "id": "JMLXwBZectlL"
      },
      "execution_count": null,
      "outputs": []
    },
    {
      "cell_type": "code",
      "execution_count": null,
      "metadata": {
        "id": "2Dsy9Vbubi6p"
      },
      "outputs": [],
      "source": [
        "from tensorflow import keras\n",
        "import bert\n",
        "from bert import BertModelLayer\n",
        "from bert.loader import StockBertConfig, map_stock_config_to_params, load_stock_weights\n",
        "from bert.tokenization.bert_tokenization import FullTokenizer"
      ]
    },
    {
      "cell_type": "code",
      "source": [
        "# pip install tensorflow_text"
      ],
      "metadata": {
        "id": "Vg544_Lyb40E"
      },
      "execution_count": null,
      "outputs": []
    },
    {
      "cell_type": "code",
      "execution_count": null,
      "metadata": {
        "colab": {
          "base_uri": "https://localhost:8080/",
          "height": 206
        },
        "id": "y0vFi625bi6p",
        "outputId": "f8f12540-e5ce-4175-b886-9b9c499d754a"
      },
      "outputs": [
        {
          "output_type": "execute_result",
          "data": {
            "text/plain": [
              "                                            sentence  BookRestaurant  \\\n",
              "0     book The Middle East restaurant in IN for noon               1   \n",
              "1      Book a table at T-Rex distant from Halsey St.               1   \n",
              "2  I'd like to eat at a taverna that serves chili...               1   \n",
              "3  I have a party of four in Japan and need a res...               1   \n",
              "4  Please make a restaurant reservation for somew...               1   \n",
              "\n",
              "   GetWeather  PlayMusic  RateBook  \n",
              "0           0          0         0  \n",
              "1           0          0         0  \n",
              "2           0          0         0  \n",
              "3           0          0         0  \n",
              "4           0          0         0  "
            ],
            "text/html": [
              "\n",
              "  <div id=\"df-bea98445-121e-416e-8872-69ffc3c14e65\">\n",
              "    <div class=\"colab-df-container\">\n",
              "      <div>\n",
              "<style scoped>\n",
              "    .dataframe tbody tr th:only-of-type {\n",
              "        vertical-align: middle;\n",
              "    }\n",
              "\n",
              "    .dataframe tbody tr th {\n",
              "        vertical-align: top;\n",
              "    }\n",
              "\n",
              "    .dataframe thead th {\n",
              "        text-align: right;\n",
              "    }\n",
              "</style>\n",
              "<table border=\"1\" class=\"dataframe\">\n",
              "  <thead>\n",
              "    <tr style=\"text-align: right;\">\n",
              "      <th></th>\n",
              "      <th>sentence</th>\n",
              "      <th>BookRestaurant</th>\n",
              "      <th>GetWeather</th>\n",
              "      <th>PlayMusic</th>\n",
              "      <th>RateBook</th>\n",
              "    </tr>\n",
              "  </thead>\n",
              "  <tbody>\n",
              "    <tr>\n",
              "      <th>0</th>\n",
              "      <td>book The Middle East restaurant in IN for noon</td>\n",
              "      <td>1</td>\n",
              "      <td>0</td>\n",
              "      <td>0</td>\n",
              "      <td>0</td>\n",
              "    </tr>\n",
              "    <tr>\n",
              "      <th>1</th>\n",
              "      <td>Book a table at T-Rex distant from Halsey St.</td>\n",
              "      <td>1</td>\n",
              "      <td>0</td>\n",
              "      <td>0</td>\n",
              "      <td>0</td>\n",
              "    </tr>\n",
              "    <tr>\n",
              "      <th>2</th>\n",
              "      <td>I'd like to eat at a taverna that serves chili...</td>\n",
              "      <td>1</td>\n",
              "      <td>0</td>\n",
              "      <td>0</td>\n",
              "      <td>0</td>\n",
              "    </tr>\n",
              "    <tr>\n",
              "      <th>3</th>\n",
              "      <td>I have a party of four in Japan and need a res...</td>\n",
              "      <td>1</td>\n",
              "      <td>0</td>\n",
              "      <td>0</td>\n",
              "      <td>0</td>\n",
              "    </tr>\n",
              "    <tr>\n",
              "      <th>4</th>\n",
              "      <td>Please make a restaurant reservation for somew...</td>\n",
              "      <td>1</td>\n",
              "      <td>0</td>\n",
              "      <td>0</td>\n",
              "      <td>0</td>\n",
              "    </tr>\n",
              "  </tbody>\n",
              "</table>\n",
              "</div>\n",
              "      <button class=\"colab-df-convert\" onclick=\"convertToInteractive('df-bea98445-121e-416e-8872-69ffc3c14e65')\"\n",
              "              title=\"Convert this dataframe to an interactive table.\"\n",
              "              style=\"display:none;\">\n",
              "        \n",
              "  <svg xmlns=\"http://www.w3.org/2000/svg\" height=\"24px\"viewBox=\"0 0 24 24\"\n",
              "       width=\"24px\">\n",
              "    <path d=\"M0 0h24v24H0V0z\" fill=\"none\"/>\n",
              "    <path d=\"M18.56 5.44l.94 2.06.94-2.06 2.06-.94-2.06-.94-.94-2.06-.94 2.06-2.06.94zm-11 1L8.5 8.5l.94-2.06 2.06-.94-2.06-.94L8.5 2.5l-.94 2.06-2.06.94zm10 10l.94 2.06.94-2.06 2.06-.94-2.06-.94-.94-2.06-.94 2.06-2.06.94z\"/><path d=\"M17.41 7.96l-1.37-1.37c-.4-.4-.92-.59-1.43-.59-.52 0-1.04.2-1.43.59L10.3 9.45l-7.72 7.72c-.78.78-.78 2.05 0 2.83L4 21.41c.39.39.9.59 1.41.59.51 0 1.02-.2 1.41-.59l7.78-7.78 2.81-2.81c.8-.78.8-2.07 0-2.86zM5.41 20L4 18.59l7.72-7.72 1.47 1.35L5.41 20z\"/>\n",
              "  </svg>\n",
              "      </button>\n",
              "      \n",
              "  <style>\n",
              "    .colab-df-container {\n",
              "      display:flex;\n",
              "      flex-wrap:wrap;\n",
              "      gap: 12px;\n",
              "    }\n",
              "\n",
              "    .colab-df-convert {\n",
              "      background-color: #E8F0FE;\n",
              "      border: none;\n",
              "      border-radius: 50%;\n",
              "      cursor: pointer;\n",
              "      display: none;\n",
              "      fill: #1967D2;\n",
              "      height: 32px;\n",
              "      padding: 0 0 0 0;\n",
              "      width: 32px;\n",
              "    }\n",
              "\n",
              "    .colab-df-convert:hover {\n",
              "      background-color: #E2EBFA;\n",
              "      box-shadow: 0px 1px 2px rgba(60, 64, 67, 0.3), 0px 1px 3px 1px rgba(60, 64, 67, 0.15);\n",
              "      fill: #174EA6;\n",
              "    }\n",
              "\n",
              "    [theme=dark] .colab-df-convert {\n",
              "      background-color: #3B4455;\n",
              "      fill: #D2E3FC;\n",
              "    }\n",
              "\n",
              "    [theme=dark] .colab-df-convert:hover {\n",
              "      background-color: #434B5C;\n",
              "      box-shadow: 0px 1px 3px 1px rgba(0, 0, 0, 0.15);\n",
              "      filter: drop-shadow(0px 1px 2px rgba(0, 0, 0, 0.3));\n",
              "      fill: #FFFFFF;\n",
              "    }\n",
              "  </style>\n",
              "\n",
              "      <script>\n",
              "        const buttonEl =\n",
              "          document.querySelector('#df-bea98445-121e-416e-8872-69ffc3c14e65 button.colab-df-convert');\n",
              "        buttonEl.style.display =\n",
              "          google.colab.kernel.accessAllowed ? 'block' : 'none';\n",
              "\n",
              "        async function convertToInteractive(key) {\n",
              "          const element = document.querySelector('#df-bea98445-121e-416e-8872-69ffc3c14e65');\n",
              "          const dataTable =\n",
              "            await google.colab.kernel.invokeFunction('convertToInteractive',\n",
              "                                                     [key], {});\n",
              "          if (!dataTable) return;\n",
              "\n",
              "          const docLinkHtml = 'Like what you see? Visit the ' +\n",
              "            '<a target=\"_blank\" href=https://colab.research.google.com/notebooks/data_table.ipynb>data table notebook</a>'\n",
              "            + ' to learn more about interactive tables.';\n",
              "          element.innerHTML = '';\n",
              "          dataTable['output_type'] = 'display_data';\n",
              "          await google.colab.output.renderOutput(dataTable, element);\n",
              "          const docLink = document.createElement('div');\n",
              "          docLink.innerHTML = docLinkHtml;\n",
              "          element.appendChild(docLink);\n",
              "        }\n",
              "      </script>\n",
              "    </div>\n",
              "  </div>\n",
              "  "
            ]
          },
          "metadata": {},
          "execution_count": 6
        }
      ],
      "source": [
        "import pandas as pd\n",
        "import matplotlib.pyplot as plt\n",
        "df = pd.read_csv(\"/content/Intent_data.csv\")\n",
        "df.head()"
      ]
    },
    {
      "cell_type": "code",
      "execution_count": null,
      "metadata": {
        "id": "JBxmH-8lbi6p"
      },
      "outputs": [],
      "source": [
        "li = []\n",
        "for book,weath,play,rate in zip(df['BookRestaurant'],df['GetWeather'],df['PlayMusic'],df['RateBook']):\n",
        "    if book == 1:\n",
        "        li.append(0)\n",
        "    elif weath == 1:\n",
        "        li.append(1)\n",
        "    elif play == 1:\n",
        "        li.append(2)\n",
        "    elif rate == 1:\n",
        "        li.append(3)"
      ]
    },
    {
      "cell_type": "code",
      "execution_count": null,
      "metadata": {
        "colab": {
          "base_uri": "https://localhost:8080/"
        },
        "id": "o_1Epyr1bi6q",
        "outputId": "119b416d-dc64-4b5a-9343-cf23f3de8199"
      },
      "outputs": [
        {
          "output_type": "execute_result",
          "data": {
            "text/plain": [
              "1    2000\n",
              "2    2000\n",
              "0    1973\n",
              "3    1956\n",
              "Name: Label, dtype: int64"
            ]
          },
          "metadata": {},
          "execution_count": 8
        }
      ],
      "source": [
        "df[\"Label\"] = li\n",
        "df[\"Label\"].value_counts()"
      ]
    },
    {
      "cell_type": "code",
      "execution_count": null,
      "metadata": {
        "id": "Zo66o86abi6q"
      },
      "outputs": [],
      "source": [
        "del df[\"BookRestaurant\"]\n",
        "del df[\"GetWeather\"]\n",
        "del df[\"PlayMusic\"]\n",
        "del df[\"RateBook\"]"
      ]
    },
    {
      "cell_type": "code",
      "execution_count": null,
      "metadata": {
        "colab": {
          "base_uri": "https://localhost:8080/"
        },
        "id": "LljqlszXbi6q",
        "outputId": "74c11104-9959-4e30-8e99-c0df0fea0ad7"
      },
      "outputs": [
        {
          "output_type": "execute_result",
          "data": {
            "text/plain": [
              "(7929, 2)"
            ]
          },
          "metadata": {},
          "execution_count": 10
        }
      ],
      "source": [
        "df.shape"
      ]
    },
    {
      "cell_type": "code",
      "execution_count": null,
      "metadata": {
        "id": "v0JDUWBebi6q"
      },
      "outputs": [],
      "source": [
        "# 0 --> \"BookRestaurant\n",
        "# 1 --> \"GetWeather\"\n",
        "# 2 --> \"PlayMusic\"\n",
        "# 3 --> \"RateBook"
      ]
    },
    {
      "cell_type": "code",
      "execution_count": null,
      "metadata": {
        "id": "vDW0ZEsMbi6q"
      },
      "outputs": [],
      "source": [
        "df.drop_duplicates(inplace=True)"
      ]
    },
    {
      "cell_type": "code",
      "execution_count": null,
      "metadata": {
        "colab": {
          "base_uri": "https://localhost:8080/"
        },
        "id": "kg5KA3EHbi6r",
        "outputId": "c4804fad-b810-4af2-81e7-2eb332235fe9"
      },
      "outputs": [
        {
          "output_type": "execute_result",
          "data": {
            "text/plain": [
              "(7873, 2)"
            ]
          },
          "metadata": {},
          "execution_count": 13
        }
      ],
      "source": [
        "df.shape"
      ]
    },
    {
      "cell_type": "code",
      "execution_count": null,
      "metadata": {
        "id": "mBiY7xcIbi6r"
      },
      "outputs": [],
      "source": [
        "import warnings\n",
        "warnings.filterwarnings(\"ignore\")"
      ]
    },
    {
      "cell_type": "code",
      "source": [
        "import seaborn as sns"
      ],
      "metadata": {
        "id": "YdH9b10adUFX"
      },
      "execution_count": null,
      "outputs": []
    },
    {
      "cell_type": "code",
      "execution_count": null,
      "metadata": {
        "id": "xWLDvyp9bi6r"
      },
      "outputs": [],
      "source": [
        "sns.set(style='whitegrid', palette='muted', font_scale=1.2)\n",
        "HAPPY_COLORS_PALETTE = [\"#01BEFE\", \"#FFDD00\", \"#FF7D00\", \"#FF006D\", \"#ADFF02\", \"#8F00FF\"]\n",
        "sns.set_palette(sns.color_palette(HAPPY_COLORS_PALETTE))"
      ]
    },
    {
      "cell_type": "code",
      "execution_count": null,
      "metadata": {
        "colab": {
          "base_uri": "https://localhost:8080/",
          "height": 308
        },
        "id": "2yoBdszhbi6r",
        "outputId": "9262c0c2-619d-4433-95f1-440833cd3c41"
      },
      "outputs": [
        {
          "output_type": "display_data",
          "data": {
            "text/plain": [
              "<Figure size 432x288 with 1 Axes>"
            ],
            "image/png": "[encoded data removed]"
          },
          "metadata": {}
        }
      ],
      "source": [
        "chart = sns.countplot(df.Label, palette=HAPPY_COLORS_PALETTE)\n",
        "plt.title(\"Number of texts per intent\")\n",
        "chart.set_xticklabels(chart.get_xticklabels(), rotation=30, horizontalalignment='right');"
      ]
    },
    {
      "cell_type": "code",
      "execution_count": null,
      "metadata": {
        "id": "3Ho0hnyKbi6r"
      },
      "outputs": [],
      "source": [
        "from sklearn.model_selection import train_test_split"
      ]
    },
    {
      "cell_type": "code",
      "execution_count": null,
      "metadata": {
        "id": "v2ykcTIIbi6r"
      },
      "outputs": [],
      "source": [
        "X_train , X_test, y_train, y_test = train_test_split(\n",
        "    df.sentence,\n",
        "    df.Label,\n",
        "    test_size = 0.2,\n",
        "    random_state = 42,\n",
        "    stratify = df.Label\n",
        ")"
      ]
    },
    {
      "cell_type": "code",
      "execution_count": null,
      "metadata": {
        "colab": {
          "base_uri": "https://localhost:8080/"
        },
        "id": "oeiQEWnAbi6r",
        "outputId": "149755ae-4c76-47da-bef4-c7d433eac0ad"
      },
      "outputs": [
        {
          "output_type": "stream",
          "name": "stderr",
          "text": [
            "WARNING:tensorflow:Please fix your imports. Module tensorflow.python.training.tracking.data_structures has been moved to tensorflow.python.trackable.data_structures. The old module will be deleted in version 2.11.\n"
          ]
        }
      ],
      "source": [
        "# Preprocessing\n",
        "bert_preprocess = hub.KerasLayer('https://tfhub.dev/tensorflow/bert_en_uncased_preprocess/3')\n",
        "\n",
        "# Bert encoder\n",
        "bert_encoder = hub.KerasLayer('https://tfhub.dev/tensorflow/small_bert/bert_en_uncased_L-2_H-128_A-2/2')\n"
      ]
    },
    {
      "cell_type": "code",
      "execution_count": null,
      "metadata": {
        "id": "5LL19l4Fbi6s"
      },
      "outputs": [],
      "source": [
        "from tensorflow import keras"
      ]
    },
    {
      "cell_type": "code",
      "execution_count": null,
      "metadata": {
        "id": "9kOXe4J9bi6s"
      },
      "outputs": [],
      "source": [
        "# Bert Layers\n",
        "text_input = tf.keras.layers.Input(shape=(), dtype = tf.string, name = \"text\")\n",
        "\n",
        "preprocessed_text = bert_preprocess(text_input)\n",
        "\n",
        "outputs = bert_encoder(preprocessed_text)\n",
        "\n",
        "# Neural Network Layers\n",
        "\n",
        "l = tf.keras.layers.Dropout(rate = 0.1, name='dropout')(outputs['pooled_output'])\n",
        "\n",
        "l = tf.keras.layers.Dense(4, activation = 'softmax', name = 'output')(l)\n",
        "\n",
        "#Construct Model\n",
        "\n",
        "model = tf.keras.Model(inputs = [text_input], outputs = [l])"
      ]
    },
    {
      "cell_type": "code",
      "execution_count": null,
      "metadata": {
        "colab": {
          "base_uri": "https://localhost:8080/"
        },
        "id": "OekX8GyXbi6s",
        "outputId": "7fbc99da-0ce3-42e1-b93a-b4e595b41a28"
      },
      "outputs": [
        {
          "output_type": "stream",
          "name": "stdout",
          "text": [
            "Model: \"model_1\"\n",
            "__________________________________________________________________________________________________\n",
            " Layer (type)                   Output Shape         Param #     Connected to                     \n",
            "==================================================================================================\n",
            " text (InputLayer)              [(None,)]            0           []                               \n",
            "                                                                                                  \n",
            " keras_layer (KerasLayer)       {'input_mask': (Non  0           ['text[0][0]']                   \n",
            "                                e, 128),                                                          \n",
            "                                 'input_type_ids':                                                \n",
            "                                (None, 128),                                                      \n",
            "                                 'input_word_ids':                                                \n",
            "                                (None, 128)}                                                      \n",
            "                                                                                                  \n",
            " keras_layer_1 (KerasLayer)     {'encoder_outputs':  4385921     ['keras_layer[1][0]',            \n",
            "                                 [(None, 128, 128),               'keras_layer[1][1]',            \n",
            "                                 (None, 128, 128)],               'keras_layer[1][2]']            \n",
            "                                 'sequence_output':                                               \n",
            "                                 (None, 128, 128),                                                \n",
            "                                 'pooled_output': (                                               \n",
            "                                None, 128),                                                       \n",
            "                                 'default': (None,                                                \n",
            "                                128)}                                                             \n",
            "                                                                                                  \n",
            " dropout (Dropout)              (None, 128)          0           ['keras_layer_1[1][3]']          \n",
            "                                                                                                  \n",
            " output (Dense)                 (None, 4)            516         ['dropout[0][0]']                \n",
            "                                                                                                  \n",
            "==================================================================================================\n",
            "Total params: 4,386,437\n",
            "Trainable params: 516\n",
            "Non-trainable params: 4,385,921\n",
            "__________________________________________________________________________________________________\n",
            "None\n"
          ]
        }
      ],
      "source": [
        "print(model.summary())"
      ]
    },
    {
      "cell_type": "code",
      "execution_count": null,
      "metadata": {
        "id": "lp7GuSkUbi6s"
      },
      "outputs": [],
      "source": [
        "model.compile(\n",
        "  optimizer=keras.optimizers.Adam(),\n",
        "  loss=keras.losses.SparseCategoricalCrossentropy(from_logits =False),\n",
        "  metrics=[keras.metrics.SparseCategoricalAccuracy(name=\"accuracy\")]\n",
        ")"
      ]
    },
    {
      "cell_type": "code",
      "execution_count": null,
      "metadata": {
        "colab": {
          "base_uri": "https://localhost:8080/"
        },
        "id": "Wcjdfl0abi6s",
        "outputId": "40d268a2-4471-49c3-9207-2f74ef95c2cc"
      },
      "outputs": [
        {
          "output_type": "stream",
          "name": "stdout",
          "text": [
            "Epoch 1/10\n",
            "355/355 [==============================] - 36s 98ms/step - loss: 0.9113 - accuracy: 0.6710 - val_loss: 0.6040 - val_accuracy: 0.8476\n",
            "Epoch 2/10\n",
            "355/355 [==============================] - 34s 97ms/step - loss: 0.5438 - accuracy: 0.8373 - val_loss: 0.4244 - val_accuracy: 0.9000\n",
            "Epoch 3/10\n",
            "355/355 [==============================] - 32s 90ms/step - loss: 0.4162 - accuracy: 0.8825 - val_loss: 0.3443 - val_accuracy: 0.9127\n",
            "Epoch 4/10\n",
            "355/355 [==============================] - 34s 96ms/step - loss: 0.3497 - accuracy: 0.8954 - val_loss: 0.2925 - val_accuracy: 0.9333\n",
            "Epoch 5/10\n",
            "355/355 [==============================] - 37s 103ms/step - loss: 0.3178 - accuracy: 0.9067 - val_loss: 0.2558 - val_accuracy: 0.9397\n",
            "Epoch 6/10\n",
            "355/355 [==============================] - 34s 97ms/step - loss: 0.2863 - accuracy: 0.9100 - val_loss: 0.2325 - val_accuracy: 0.9365\n",
            "Epoch 7/10\n",
            "355/355 [==============================] - 35s 97ms/step - loss: 0.2625 - accuracy: 0.9206 - val_loss: 0.2145 - val_accuracy: 0.9444\n",
            "Epoch 8/10\n",
            "355/355 [==============================] - 33s 94ms/step - loss: 0.2461 - accuracy: 0.9252 - val_loss: 0.2005 - val_accuracy: 0.9492\n",
            "Epoch 9/10\n",
            "355/355 [==============================] - 35s 98ms/step - loss: 0.2352 - accuracy: 0.9296 - val_loss: 0.1829 - val_accuracy: 0.9556\n",
            "Epoch 10/10\n",
            "355/355 [==============================] - 37s 103ms/step - loss: 0.2280 - accuracy: 0.9273 - val_loss: 0.1722 - val_accuracy: 0.9587\n"
          ]
        }
      ],
      "source": [
        "# model.fit(X_train, y_train, epochs = 10)\n",
        "history = model.fit(\n",
        "    X_train, y_train,\n",
        "    validation_split=0.1,\n",
        "    batch_size=16,\n",
        "    shuffle=True,\n",
        "    epochs=10,\n",
        ")"
      ]
    },
    {
      "cell_type": "code",
      "execution_count": null,
      "metadata": {
        "colab": {
          "base_uri": "https://localhost:8080/"
        },
        "id": "PfcxCi_Ibi6s",
        "outputId": "706b9972-04b0-42a8-d065-2c5ef80f9bb0"
      },
      "outputs": [
        {
          "output_type": "stream",
          "name": "stdout",
          "text": [
            "50/50 [==============================] - 8s 150ms/step - loss: 0.1745 - accuracy: 0.9498\n"
          ]
        },
        {
          "output_type": "execute_result",
          "data": {
            "text/plain": [
              "[0.17445111274719238, 0.9498412609100342]"
            ]
          },
          "metadata": {},
          "execution_count": 41
        }
      ],
      "source": [
        "model.evaluate(X_test,y_test)"
      ]
    },
    {
      "cell_type": "code",
      "execution_count": null,
      "metadata": {
        "id": "CnIaV0wabi6t"
      },
      "outputs": [],
      "source": [
        "from matplotlib.ticker import MaxNLocator"
      ]
    },
    {
      "cell_type": "code",
      "execution_count": null,
      "metadata": {
        "colab": {
          "base_uri": "https://localhost:8080/",
          "height": 306
        },
        "id": "bd5LN-T4bi6t",
        "outputId": "6bf09ba7-f9f3-450d-acc2-bdb24ad3482f"
      },
      "outputs": [
        {
          "output_type": "display_data",
          "data": {
            "text/plain": [
              "<Figure size 432x288 with 1 Axes>"
            ],
            "image/png": "[encoded data removed]"
          },
          "metadata": {}
        }
      ],
      "source": [
        "# Loss over training epochs\n",
        "\n",
        "ax = plt.figure().gca()\n",
        "ax.xaxis.set_major_locator(MaxNLocator(integer=True))\n",
        "\n",
        "ax.plot(history.history['loss'])\n",
        "ax.plot(history.history['val_loss'])\n",
        "plt.ylabel('Loss')\n",
        "plt.xlabel('Epoch')\n",
        "plt.legend(['train', 'test'])\n",
        "plt.title('Loss over training epochs')\n",
        "plt.show();"
      ]
    },
    {
      "cell_type": "code",
      "execution_count": null,
      "metadata": {
        "colab": {
          "base_uri": "https://localhost:8080/",
          "height": 306
        },
        "id": "m9DjzQ1Tbi6t",
        "outputId": "7e4069e9-af0b-4ef6-fe51-e372082fb088"
      },
      "outputs": [
        {
          "output_type": "display_data",
          "data": {
            "text/plain": [
              "<Figure size 432x288 with 1 Axes>"
            ],
            "image/png": "[encoded data removed]"
          },
          "metadata": {}
        }
      ],
      "source": [
        "# Accuracy over training epochs\n",
        "\n",
        "ax = plt.figure().gca()\n",
        "ax.xaxis.set_major_locator(MaxNLocator(integer=True))\n",
        "\n",
        "ax.plot(history.history['accuracy'])\n",
        "ax.plot(history.history['val_accuracy'])\n",
        "plt.ylabel('Accuracy')\n",
        "plt.xlabel('Epoch')\n",
        "plt.legend(['train', 'test'])\n",
        "plt.title('Accuracy over training epochs')\n",
        "plt.show();"
      ]
    },
    {
      "cell_type": "code",
      "execution_count": null,
      "metadata": {
        "colab": {
          "base_uri": "https://localhost:8080/"
        },
        "id": "q2Ty1dm5bi6t",
        "outputId": "c612fb1a-4918-407d-9f35-bb2bdb989f5a"
      },
      "outputs": [
        {
          "output_type": "stream",
          "name": "stdout",
          "text": [
            "197/197 [==============================] - 30s 154ms/step - loss: 0.1736 - accuracy: 0.9530\n",
            "50/50 [==============================] - 8s 152ms/step - loss: 0.1745 - accuracy: 0.9498\n",
            "train acc 0.9530009627342224\n",
            "test acc 0.9498412609100342\n"
          ]
        }
      ],
      "source": [
        "_, train_acc = model.evaluate(X_train, y_train,)\n",
        "_, test_acc = model.evaluate( X_test, y_test)\n",
        "\n",
        "print(\"train acc\", train_acc)\n",
        "print(\"test acc\", test_acc)"
      ]
    },
    {
      "cell_type": "code",
      "execution_count": null,
      "metadata": {
        "colab": {
          "base_uri": "https://localhost:8080/"
        },
        "id": "fI2SsM4obi6t",
        "outputId": "fecd66d4-f007-4bed-8219-af1c888c3d0c"
      },
      "outputs": [
        {
          "output_type": "stream",
          "name": "stdout",
          "text": [
            "50/50 [==============================] - 8s 153ms/step\n"
          ]
        }
      ],
      "source": [
        "y_pred = model.predict(X_test)"
      ]
    },
    {
      "cell_type": "code",
      "execution_count": null,
      "metadata": {
        "id": "-FtVSueIbi6t"
      },
      "outputs": [],
      "source": [
        "from sklearn.metrics import confusion_matrix, classification_report"
      ]
    },
    {
      "cell_type": "code",
      "execution_count": null,
      "metadata": {
        "id": "z3hhMPmLbi6t"
      },
      "outputs": [],
      "source": [
        "# print(classification_report( y_test, y_pred))"
      ]
    },
    {
      "cell_type": "code",
      "execution_count": null,
      "metadata": {
        "id": "z_BArappbi6t"
      },
      "outputs": [],
      "source": []
    }
  ],
  "metadata": {
    "kernelspec": {
      "display_name": "Python 3",
      "language": "python",
      "name": "python3"
    },
    "language_info": {
      "codemirror_mode": {
        "name": "ipython",
        "version": 3
      },
      "file_extension": ".py",
      "mimetype": "text/x-python",
      "name": "python",
      "nbconvert_exporter": "python",
      "pygments_lexer": "ipython3",
      "version": "3.8.5"
    },
    "colab": {
      "provenance": []
    }
  },
  "nbformat": 4,
  "nbformat_minor": 0
}